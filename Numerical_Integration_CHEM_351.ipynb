{
  "cells": [
    {
      "cell_type": "markdown",
      "metadata": {
        "id": "view-in-github",
        "colab_type": "text"
      },
      "source": [
        "<a href=\"https://colab.research.google.com/github/kldanh/Physical-Chem/blob/main/Numerical_Integration_CHEM_351.ipynb\" target=\"_parent\"><img src=\"https://colab.research.google.com/assets/colab-badge.svg\" alt=\"Open In Colab\"/></a>"
      ]
    },
    {
      "cell_type": "markdown",
      "metadata": {
        "id": "smxPSjVQxwna"
      },
      "source": [
        "#Numerical Integration\n",
        "Often, we need to integrate a thermodynamic function. For instance, we integrate pressure with respect\n",
        "to volume when calculating work for a reversible compression. Often, we will have tabulated values for\n",
        "our function, but not an equation. How can we integrate without an equation? One strategy would be to\n",
        "fit a function to the data, and then integrate that function. A second strategy, which we will consider\n",
        "here, is numerical integration using a method such as the trapezoidal rule.\n",
        "\n",
        "![Animated image of trapezoidal rule](https://upload.wikimedia.org/wikipedia/commons/1/10/WikiTrap.gif)\n",
        "\n",
        "Aravindh Vasu, CC BY-SA 4.0 <https://creativecommons.org/licenses/by-sa/4.0>, via Wikimedia Commons"
      ]
    },
    {
      "cell_type": "markdown",
      "metadata": {
        "id": "kc2QHy371sW5"
      },
      "source": [
        "## General Approach\n",
        "Once you have your data in arrays in your code, the numerical integration can be performed with a single line of code using the SciPy package. Because managing your data and getting it into arrays is a critical part of the process, this tutorial will demonstrate the basic use of the package pandas (Python Data Analysis Library) in addition to the numerical integration.\n",
        "\n",
        "The general strategy is as follows:\n",
        "\n",
        "*   Import your data\n",
        "*   Create an array for your independent variable (x values)\n",
        "*   Create an array for your dependent variable (y values)\n",
        "*   Use the scipy.integrate function\n",
        "\n"
      ]
    },
    {
      "cell_type": "markdown",
      "metadata": {
        "id": "FCXQWHLS4smz"
      },
      "source": [
        "## Packages\n",
        "\n",
        "This tutorial will use the following packages:\n",
        "\n",
        "*   pandas for working with tabular data\n",
        "*   scipy for doing numerical integration\n",
        "*   google.colab for importing files (note that this package is not required if you are running Jupyter locally on your own computer)\n",
        "\n",
        "**Make sure you run the following code block before continuing or you won't have access to the required packages.**"
      ]
    },
    {
      "cell_type": "code",
      "execution_count": null,
      "metadata": {
        "id": "0tFTujiP5RzS"
      },
      "outputs": [],
      "source": [
        "import pandas as pd\n",
        "from google.colab import files  # Remove or comment out this line if you are not using colab!\n",
        "import scipy.integrate as integrate"
      ]
    },
    {
      "cell_type": "markdown",
      "metadata": {
        "id": "2a5kbMo46uzJ"
      },
      "source": [
        "## Importing Files\n",
        "How you import files will be different depending on whether you are running a local installation of Jupyter or whether you are using Google colab.\n",
        "\n",
        "### Local Installation\n",
        "The easiest approach is to put the file you want to read in the same directory as your script, then skip the upload part entirely. Youw will pick up below with the read_csv part.\n",
        "\n",
        "### Google Colab\n",
        "Use the files.upload() function to upload a file. When you run the script, it will provide a button for you to upload your file. It's nice to put this in its own code block that you only run once so that you don't have to keep uploading the file over and over again (you will need to upload again when your session expires).\n",
        "\n",
        "**Important note**: if you make changes to the file and then upload it again, it will be uploaded with a new filename (just like your browser adds a number to files you download more than once). The easiest workaround is to change the filename after you make changes to the file before you upload it again.\n",
        "\n",
        "Note that [there are other approaches](https://colab.research.google.com/notebooks/io.ipynb) to getting files into Google Colab if you are interested.\n",
        "\n",
        "For this example, download the propanedata.xlsx file that you can access here: https://github.com/gscott02/351-Python/blob/main/propanedata.xlsx (click the download button in the upper right).\n",
        "\n",
        "These data were obtained from the NIST chemical WebBook. If you would like to replicate the process, go to the Webbook, page down to Models and Tools, and click on the link Thermophysical Properties of Fluid Systems. Select propane, Kelvin, bar, and then skip down to item 3. Select Isothermal and click on continue. Here we will do an isotherm at room temperature, so enter 298 K in the temperature box. Here we will compress the gas from 1 bar to 9 bar.\n",
        "\n",
        "Propane Data: Eric W. Lemmon, Ian H. Bell, Marcia L. Huber, and Mark O. McLinden, \"Thermophysical Properties of Fluid Systems\" in NIST Chemistry WebBook, NIST Standard Reference Database Number 69, Eds. P.J. Linstrom and W.G. Mallard, National Institute of Standards and Technology, Gaithersburg MD, 20899, https://doi.org/10.18434/T4D303, (retrieved October 23, 2023).\n"
      ]
    },
    {
      "cell_type": "code",
      "execution_count": null,
      "metadata": {
        "colab": {
          "background_save": true,
          "base_uri": "https://localhost:8080/",
          "height": 37
        },
        "id": "HPNbrvJlH7od",
        "outputId": "8ba96e73-fe50-40f6-b25d-ffb1a6c5d333"
      },
      "outputs": [
        {
          "data": {
            "text/html": [
              "\n",
              "     <input type=\"file\" id=\"files-125a259f-51fc-4e12-b2f3-5fb6911fe78a\" name=\"files[]\" multiple disabled\n",
              "        style=\"border:none\" />\n",
              "     <output id=\"result-125a259f-51fc-4e12-b2f3-5fb6911fe78a\">\n",
              "      Upload widget is only available when the cell has been executed in the\n",
              "      current browser session. Please rerun this cell to enable.\n",
              "      </output>\n",
              "      <script>// Copyright 2017 Google LLC\n",
              "//\n",
              "// Licensed under the Apache License, Version 2.0 (the \"License\");\n",
              "// you may not use this file except in compliance with the License.\n",
              "// You may obtain a copy of the License at\n",
              "//\n",
              "//      http://www.apache.org/licenses/LICENSE-2.0\n",
              "//\n",
              "// Unless required by applicable law or agreed to in writing, software\n",
              "// distributed under the License is distributed on an \"AS IS\" BASIS,\n",
              "// WITHOUT WARRANTIES OR CONDITIONS OF ANY KIND, either express or implied.\n",
              "// See the License for the specific language governing permissions and\n",
              "// limitations under the License.\n",
              "\n",
              "/**\n",
              " * @fileoverview Helpers for google.colab Python module.\n",
              " */\n",
              "(function(scope) {\n",
              "function span(text, styleAttributes = {}) {\n",
              "  const element = document.createElement('span');\n",
              "  element.textContent = text;\n",
              "  for (const key of Object.keys(styleAttributes)) {\n",
              "    element.style[key] = styleAttributes[key];\n",
              "  }\n",
              "  return element;\n",
              "}\n",
              "\n",
              "// Max number of bytes which will be uploaded at a time.\n",
              "const MAX_PAYLOAD_SIZE = 100 * 1024;\n",
              "\n",
              "function _uploadFiles(inputId, outputId) {\n",
              "  const steps = uploadFilesStep(inputId, outputId);\n",
              "  const outputElement = document.getElementById(outputId);\n",
              "  // Cache steps on the outputElement to make it available for the next call\n",
              "  // to uploadFilesContinue from Python.\n",
              "  outputElement.steps = steps;\n",
              "\n",
              "  return _uploadFilesContinue(outputId);\n",
              "}\n",
              "\n",
              "// This is roughly an async generator (not supported in the browser yet),\n",
              "// where there are multiple asynchronous steps and the Python side is going\n",
              "// to poll for completion of each step.\n",
              "// This uses a Promise to block the python side on completion of each step,\n",
              "// then passes the result of the previous step as the input to the next step.\n",
              "function _uploadFilesContinue(outputId) {\n",
              "  const outputElement = document.getElementById(outputId);\n",
              "  const steps = outputElement.steps;\n",
              "\n",
              "  const next = steps.next(outputElement.lastPromiseValue);\n",
              "  return Promise.resolve(next.value.promise).then((value) => {\n",
              "    // Cache the last promise value to make it available to the next\n",
              "    // step of the generator.\n",
              "    outputElement.lastPromiseValue = value;\n",
              "    return next.value.response;\n",
              "  });\n",
              "}\n",
              "\n",
              "/**\n",
              " * Generator function which is called between each async step of the upload\n",
              " * process.\n",
              " * @param {string} inputId Element ID of the input file picker element.\n",
              " * @param {string} outputId Element ID of the output display.\n",
              " * @return {!Iterable<!Object>} Iterable of next steps.\n",
              " */\n",
              "function* uploadFilesStep(inputId, outputId) {\n",
              "  const inputElement = document.getElementById(inputId);\n",
              "  inputElement.disabled = false;\n",
              "\n",
              "  const outputElement = document.getElementById(outputId);\n",
              "  outputElement.innerHTML = '';\n",
              "\n",
              "  const pickedPromise = new Promise((resolve) => {\n",
              "    inputElement.addEventListener('change', (e) => {\n",
              "      resolve(e.target.files);\n",
              "    });\n",
              "  });\n",
              "\n",
              "  const cancel = document.createElement('button');\n",
              "  inputElement.parentElement.appendChild(cancel);\n",
              "  cancel.textContent = 'Cancel upload';\n",
              "  const cancelPromise = new Promise((resolve) => {\n",
              "    cancel.onclick = () => {\n",
              "      resolve(null);\n",
              "    };\n",
              "  });\n",
              "\n",
              "  // Wait for the user to pick the files.\n",
              "  const files = yield {\n",
              "    promise: Promise.race([pickedPromise, cancelPromise]),\n",
              "    response: {\n",
              "      action: 'starting',\n",
              "    }\n",
              "  };\n",
              "\n",
              "  cancel.remove();\n",
              "\n",
              "  // Disable the input element since further picks are not allowed.\n",
              "  inputElement.disabled = true;\n",
              "\n",
              "  if (!files) {\n",
              "    return {\n",
              "      response: {\n",
              "        action: 'complete',\n",
              "      }\n",
              "    };\n",
              "  }\n",
              "\n",
              "  for (const file of files) {\n",
              "    const li = document.createElement('li');\n",
              "    li.append(span(file.name, {fontWeight: 'bold'}));\n",
              "    li.append(span(\n",
              "        `(${file.type || 'n/a'}) - ${file.size} bytes, ` +\n",
              "        `last modified: ${\n",
              "            file.lastModifiedDate ? file.lastModifiedDate.toLocaleDateString() :\n",
              "                                    'n/a'} - `));\n",
              "    const percent = span('0% done');\n",
              "    li.appendChild(percent);\n",
              "\n",
              "    outputElement.appendChild(li);\n",
              "\n",
              "    const fileDataPromise = new Promise((resolve) => {\n",
              "      const reader = new FileReader();\n",
              "      reader.onload = (e) => {\n",
              "        resolve(e.target.result);\n",
              "      };\n",
              "      reader.readAsArrayBuffer(file);\n",
              "    });\n",
              "    // Wait for the data to be ready.\n",
              "    let fileData = yield {\n",
              "      promise: fileDataPromise,\n",
              "      response: {\n",
              "        action: 'continue',\n",
              "      }\n",
              "    };\n",
              "\n",
              "    // Use a chunked sending to avoid message size limits. See b/62115660.\n",
              "    let position = 0;\n",
              "    do {\n",
              "      const length = Math.min(fileData.byteLength - position, MAX_PAYLOAD_SIZE);\n",
              "      const chunk = new Uint8Array(fileData, position, length);\n",
              "      position += length;\n",
              "\n",
              "      const base64 = btoa(String.fromCharCode.apply(null, chunk));\n",
              "      yield {\n",
              "        response: {\n",
              "          action: 'append',\n",
              "          file: file.name,\n",
              "          data: base64,\n",
              "        },\n",
              "      };\n",
              "\n",
              "      let percentDone = fileData.byteLength === 0 ?\n",
              "          100 :\n",
              "          Math.round((position / fileData.byteLength) * 100);\n",
              "      percent.textContent = `${percentDone}% done`;\n",
              "\n",
              "    } while (position < fileData.byteLength);\n",
              "  }\n",
              "\n",
              "  // All done.\n",
              "  yield {\n",
              "    response: {\n",
              "      action: 'complete',\n",
              "    }\n",
              "  };\n",
              "}\n",
              "\n",
              "scope.google = scope.google || {};\n",
              "scope.google.colab = scope.google.colab || {};\n",
              "scope.google.colab._files = {\n",
              "  _uploadFiles,\n",
              "  _uploadFilesContinue,\n",
              "};\n",
              "})(self);\n",
              "</script> "
            ],
            "text/plain": [
              "<IPython.core.display.HTML object>"
            ]
          },
          "metadata": {},
          "output_type": "display_data"
        }
      ],
      "source": [
        "# Run this if you're on Google Colab.\n",
        "# Don't use this code block if you're running a local installation of Jupyter on your computer. Instead, just put the file you want in the same directory as your script.\n",
        "uploaded = files.upload()"
      ]
    },
    {
      "cell_type": "markdown",
      "metadata": {
        "id": "8C1T7qGmIfc4"
      },
      "source": [
        "## Getting Data from the File\n",
        "\n",
        "Data often comes in two formats: csv or Excel. Pandas has convenient functions that work for either case. Use read_csv if you have a csv file and read_excel if you have an xlsx file.\n",
        "\n",
        "In this example, we have an Excel file, so we wil use read_excel. We need to put the filename in a string (you can verify the name of your file after upload by looking at the code block above; it should say \"Saving ....\" with the file name listed.\n",
        "\n",
        "Here we will store this in a variable called `data`, though we could have called it anything.\n",
        "\n",
        "We will then look at the data table to see what it looks like after being imported."
      ]
    },
    {
      "cell_type": "code",
      "execution_count": null,
      "metadata": {
        "id": "qZ_R4vuBJhyV"
      },
      "outputs": [],
      "source": [
        "data = pd.read_excel('propanedata.xlsx')\n",
        "data"
      ]
    },
    {
      "cell_type": "markdown",
      "metadata": {
        "id": "Msm1YlLeKDdy"
      },
      "source": [
        "### Accessing the columns\n",
        "\n",
        "There are multiple ways to access the columns. Since we have header rows, we can access them by their names, for example: `data['Pressure (bar)']`.\n",
        "\n",
        "We could also access them by their column number. We could also get the temperature column using the iloc function, `data.iloc[rows, columns]` where we can use the colon to indicate everything for the rows and column one (remember, Python starts counting at zero instead of one, so column 1 is the second column). Notice the use of square brackets instead of parentheses: `data.iloc[:,1]`.\n",
        "\n",
        "**Special note on NaN (not a number) fields in spreadsheets** Sometimes spreadsheets have empty cells that look the same in Excel, but are interpreted as NaN values in Python. This is particularly problematic if you read in a spreadsheet where not all of the columns have the same length. You can get rid of these values when you access columns using the dropna() function. This is not necessary in this tutorial, but is useful to know. After storing the variable p below, you could drop any rows that are NaN using `p=p.dropna()` (or you could do it at the same time you store the variable `p = data.iloc[:,1].dropna()`. It's better to simply have well-formatted data (as is the case here) and not need to do this."
      ]
    },
    {
      "cell_type": "code",
      "execution_count": null,
      "metadata": {
        "id": "rTIRon8VKa-w"
      },
      "outputs": [],
      "source": [
        "p = data['Pressure (bar)']  # Store in a variable called p using the column header\n",
        "p = data.iloc[:,1]  # This has the same effect (we didn't need to do it both ways)\n",
        "V = data.iloc[:,2]"
      ]
    },
    {
      "cell_type": "markdown",
      "metadata": {
        "id": "IA8gMwajMyVP"
      },
      "source": [
        "## Do the numerical integration\n",
        "Now that we have stored our pressure and volume data in variables, we can call a numerical integration method. The trapezoidal method is a commonly used tool, so we will use it from the scipy package using `integrate.trapezoid(y,x)`. **Note the order of y and x here is different than many other functions in Python!**\n",
        "\n",
        "If we want to compute the reversible isothermal compression from 1 to 9 bar (the data in the file), we can do this using $w=-∫pdV$.\n",
        "\n",
        "**Important Note** The data in the spreadsheet have the wrong units! We need to modify the arrays to put p and V in the correct units so you get a meaningful answer in energy units (Joules)."
      ]
    },
    {
      "cell_type": "code",
      "execution_count": null,
      "metadata": {
        "id": "rc8hq3jMNwH6"
      },
      "outputs": [],
      "source": [
        "p = p*1e5 # Convert bar to Pa. This multlies every value in the p array by 10**5.\n",
        "V = V/1e3  # Convert dm**3 to m**3\n",
        "\n",
        "w = -1*integrate.trapezoid(p,V)  # Answer in J\n",
        "print(w)"
      ]
    }
  ],
  "metadata": {
    "colab": {
      "provenance": [],
      "include_colab_link": true
    },
    "kernelspec": {
      "display_name": "Python 3",
      "name": "python3"
    },
    "language_info": {
      "name": "python"
    }
  },
  "nbformat": 4,
  "nbformat_minor": 0
}