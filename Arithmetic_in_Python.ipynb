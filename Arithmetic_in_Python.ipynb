{
  "nbformat": 4,
  "nbformat_minor": 0,
  "metadata": {
    "colab": {
      "provenance": [],
      "include_colab_link": true
    },
    "kernelspec": {
      "name": "python3",
      "display_name": "Python 3"
    },
    "language_info": {
      "name": "python"
    }
  },
  "cells": [
    {
      "cell_type": "markdown",
      "metadata": {
        "id": "view-in-github",
        "colab_type": "text"
      },
      "source": [
        "<a href=\"https://colab.research.google.com/github/kldanh/Physical-Chem/blob/main/Arithmetic_in_Python.ipynb\" target=\"_parent\"><img src=\"https://colab.research.google.com/assets/colab-badge.svg\" alt=\"Open In Colab\"/></a>"
      ]
    },
    {
      "cell_type": "markdown",
      "source": [
        "#Arithmatic in Python Notebooks\n",
        "A Python notebook can be used as a calculator.  The way we use it is very similar to a graphing calculator.  The only difference is that we don't use ^ for exponents.  Instead, we use **.  Examples are shown below.\n",
        "\n",
        "We will see later that there are more efficient ways to calculate with Python.  However, you should still go through this worksheet to make sure that you understand order of operations.  The order of operations is as follows:\n",
        "\n",
        "\n",
        "1.   exponents\n",
        "2.   multiply and divide\n",
        "3.   add or subtract\n",
        "\n",
        "Knowing this rules will save you from writing code with unneccesary parenthesis groupings.\n",
        "\n"
      ],
      "metadata": {
        "id": "yioH4Mn_yUHP"
      }
    },
    {
      "cell_type": "code",
      "execution_count": null,
      "metadata": {
        "id": "tM69UZ9HyJHy",
        "colab": {
          "base_uri": "https://localhost:8080/"
        },
        "outputId": "ac7c4ef4-bb8b-40e5-b58c-f57068a50a47"
      },
      "outputs": [
        {
          "output_type": "execute_result",
          "data": {
            "text/plain": [
              "8"
            ]
          },
          "metadata": {},
          "execution_count": 1
        }
      ],
      "source": [
        "# Note that if we want to see more than just the last calculation this code won't work\n",
        "5+4\n",
        "36/5\n",
        "2**3"
      ]
    },
    {
      "cell_type": "code",
      "source": [
        "# If we use print statements we can see all the results:\n",
        "print(5+4)\n",
        "print(36/5)\n",
        "print(2**3)  # note the use of '**' instead of '^' for exponents"
      ],
      "metadata": {
        "id": "hRUeq80jBIQt"
      },
      "execution_count": null,
      "outputs": []
    },
    {
      "cell_type": "code",
      "source": [
        "# note that we can make more complex statements\n",
        "# before you run this code, predict the answer to test your knowledge of order of operations\n",
        "3+4**3/2"
      ],
      "metadata": {
        "id": "7oP6SKYGBtUT"
      },
      "execution_count": null,
      "outputs": []
    },
    {
      "cell_type": "code",
      "source": [
        "# repeat with this one\n",
        "12/3+1"
      ],
      "metadata": {
        "id": "NR80rVDuFHPb"
      },
      "execution_count": null,
      "outputs": []
    },
    {
      "cell_type": "code",
      "source": [
        "# one last one.  Here we are calculating the pressure of a van der Waals gas\n",
        "# let's do nitrogen at 300 K and molar volume 2 L.\n",
        "# Since the a constant that we are using is in bar L^2/mol^2\n",
        "# and the b constant is in L/mol, we are using R in L bar/mol K.\n",
        "# This means our answer is in bar.\n",
        "0.08314*300/(2-0.0387)-1.370/2.0**2\n"
      ],
      "metadata": {
        "colab": {
          "base_uri": "https://localhost:8080/"
        },
        "id": "bmx_Tp1yFQKn",
        "outputId": "4a3ff18c-cea6-4049-8fae-fecbc4e5d1f1"
      },
      "execution_count": null,
      "outputs": [
        {
          "output_type": "execute_result",
          "data": {
            "text/plain": [
              "12.37457540916739"
            ]
          },
          "metadata": {},
          "execution_count": 7
        }
      ]
    }
  ]
}