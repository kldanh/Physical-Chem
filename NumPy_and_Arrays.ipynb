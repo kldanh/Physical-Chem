{
  "nbformat": 4,
  "nbformat_minor": 0,
  "metadata": {
    "colab": {
      "provenance": [],
      "include_colab_link": true
    },
    "kernelspec": {
      "name": "python3",
      "display_name": "Python 3"
    },
    "language_info": {
      "name": "python"
    }
  },
  "cells": [
    {
      "cell_type": "markdown",
      "metadata": {
        "id": "view-in-github",
        "colab_type": "text"
      },
      "source": [
        "<a href=\"https://colab.research.google.com/github/kldanh/Physical-Chem/blob/main/NumPy_and_Arrays.ipynb\" target=\"_parent\"><img src=\"https://colab.research.google.com/assets/colab-badge.svg\" alt=\"Open In Colab\"/></a>"
      ]
    },
    {
      "cell_type": "markdown",
      "source": [
        "# Numpy and Arrays\n",
        "##Introduction to Libraries##\n",
        "Often, we would like to do a task that doesn't have built-in support in Python.  For instance, basic Python cannot do something as simple as taking the sine of a number.  Fortunately, we can do these tasks by using *libraries*. The simplest way to think of libraries is as sets of tools that extend the capabilities of Python. The first library that you will meet is NumPy.\n",
        "\n",
        "## NumPy\n",
        " NumPy stands for Numerical Python.  This library has many mathematical funtions and has a useful tool called an array that we will discuss below.  When we use NumPy, we have to do two things:  \n",
        "\n",
        "*   Import Numpy\n",
        "*   Prepend all numpy statements with numpy, or a nickname  \n",
        "\n",
        "\n",
        "### Importing NumPy\n",
        "We can use the statement below to import.   \n",
        "`import numpy as np`\n",
        "This command does two things: it imports the NumPy library and gives it the nickname np.  You could some other nickname, but if you want anyone else to understand your code stick to np since everyone uses it.\n",
        "### Prepending statements\n",
        "All statements that use Numpy have to be prepended with np.  For instance, if we wanted to use the sine function the code below would not work:  \n",
        "`y = sin(x)`  \n",
        "Instead, we have to prepend the sine function with our nickname for numpy, np:   \n",
        "`y = np.sin(x)`   \n",
        "The most important functions for us are shown below:  \n",
        "* `np.log()`  ***natural*** log\n",
        "* `np.log10()` base 10 log\n",
        "* `np.exp()` exponential function\n",
        "\n",
        "\n",
        "## Numpy Arrays\n",
        "Numpy can store data in multi-dimensional grids.  We will stick to one and two dimensional arrays in this class.  Arrays are useful in that we can apply a mathematical operation to all the numbers in an array simultaneously.  We can generate an array manually:  \n",
        "`x = array([2, 5, 7, 8])`  \n",
        "We can also generate an array of evenly-spaced numbers using `np.arange`.  The command  `np.arange(start, stop, step)` to generate a one-dimensional array of numbers starting at the start value, increasing by the step value, and ending ***before*** the stop value.  Please note the spelling: it is ***not*** arrange.\n",
        "\n",
        "\n",
        "\n"
      ],
      "metadata": {
        "id": "0J1WA5KqoeeB"
      }
    },
    {
      "cell_type": "code",
      "execution_count": null,
      "metadata": {
        "id": "d8F126dboQFK"
      },
      "outputs": [],
      "source": [
        "import numpy as np\n",
        "x = np.arange(100,300,25)                         # note spelling of function\n",
        "print('Here is our array: ', x)\n",
        "y = np.log(x)\n",
        "print('This new array is the natural log of our original array: ', y)\n",
        "z=np.array([[3 ,4,8, 2],[5, 9, 20, 11], [1, 0, 1, 22]])                 # here is a two-dimensional array\n",
        "print('Here is a two-dimensional array: \\n', z)                         # is a 3 by 4 (it has three rows and 4 columns)\n",
        "# I put the \\n in the print statement to print on a new line\n",
        "\n",
        "\n"
      ]
    }
  ]
}