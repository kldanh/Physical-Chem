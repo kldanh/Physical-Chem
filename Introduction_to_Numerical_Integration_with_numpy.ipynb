{
  "nbformat": 4,
  "nbformat_minor": 0,
  "metadata": {
    "colab": {
      "provenance": [],
      "include_colab_link": true
    },
    "kernelspec": {
      "name": "python3",
      "display_name": "Python 3"
    },
    "language_info": {
      "name": "python"
    }
  },
  "cells": [
    {
      "cell_type": "markdown",
      "metadata": {
        "id": "view-in-github",
        "colab_type": "text"
      },
      "source": [
        "<a href=\"https://colab.research.google.com/github/kldanh/Physical-Chem/blob/main/Introduction_to_Numerical_Integration_with_numpy.ipynb\" target=\"_parent\"><img src=\"https://colab.research.google.com/assets/colab-badge.svg\" alt=\"Open In Colab\"/></a>"
      ]
    },
    {
      "cell_type": "markdown",
      "source": [
        "#Numerical Integration\n",
        "Often, we need to integrate a thermodynamic function. For instance, we integrate pressure with respect\n",
        "to volume when calculating work for a reversible compression. Often, we will have tabulated values for\n",
        "our function, but not an equation. How can we integrate without an equation? One strategy would be to\n",
        "fit a function to the data, and then integrate that function. A second strategy, which we will consider\n",
        "here, is numerical integration using a method such as the trapezoidal rule.\n",
        "\n",
        "![Animated image of trapezoidal rule](https://upload.wikimedia.org/wikipedia/commons/1/10/WikiTrap.gif)\n",
        "\n",
        "Aravindh Vasu, CC BY-SA 4.0 <https://creativecommons.org/licenses/by-sa/4.0>, via Wikimedia Commons"
      ],
      "metadata": {
        "id": "smxPSjVQxwna"
      }
    },
    {
      "cell_type": "markdown",
      "source": [
        "## General Approach\n",
        "Once you have your data in arrays in your code, the numerical integration can be performed with a single line of code.\n",
        "\n",
        "The general strategy is as follows:\n",
        "\n",
        "\n",
        "*   Create an array for your independent variable (x values)\n",
        "*   Create an array for your dependent variable (y values)\n",
        "*   Use the np.trapz function\n",
        "\n",
        "Please do note that the when you use `np.trapz' the x and y values are switched from what you would normally expect.\n",
        "\n"
      ],
      "metadata": {
        "id": "kc2QHy371sW5"
      }
    },
    {
      "cell_type": "code",
      "source": [
        "import numpy as np\n",
        "y = np.array([1, 2, 3, 4])\n",
        "x = np.array([0, 1, 2, 3])\n",
        "\n",
        "# Compute the integral of y using the trapezoidal rule\n",
        "integral = np.trapz(y, x)               # Note the strange order here.\n",
        "print(integral)"
      ],
      "metadata": {
        "colab": {
          "base_uri": "https://localhost:8080/"
        },
        "id": "ja-p4yqGRmqr",
        "outputId": "68684b43-8aa4-4ccb-ae92-092fb4b311a1"
      },
      "execution_count": null,
      "outputs": [
        {
          "output_type": "stream",
          "name": "stdout",
          "text": [
            "7.5\n"
          ]
        }
      ]
    }
  ]
}