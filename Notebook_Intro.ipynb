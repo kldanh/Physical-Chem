{
  "nbformat": 4,
  "nbformat_minor": 0,
  "metadata": {
    "colab": {
      "provenance": [],
      "include_colab_link": true
    },
    "kernelspec": {
      "name": "python3",
      "display_name": "Python 3"
    },
    "language_info": {
      "name": "python"
    }
  },
  "cells": [
    {
      "cell_type": "markdown",
      "metadata": {
        "id": "view-in-github",
        "colab_type": "text"
      },
      "source": [
        "<a href=\"https://colab.research.google.com/github/kldanh/Physical-Chem/blob/main/Notebook_Intro.ipynb\" target=\"_parent\"><img src=\"https://colab.research.google.com/assets/colab-badge.svg\" alt=\"Open In Colab\"/></a>"
      ]
    },
    {
      "cell_type": "markdown",
      "source": [
        "#Introduction to Coding Notebooks\n",
        "## What is a notebook?\n",
        "A notebook is a file that combines formated text with computer code.  It has been common for scientists to share their work using Python notebooks for many years. We will be using Google Colab, which allows us to use our Google drive to run python notebooks in a web browser.  Because it runs in a browser you don't have to install anything-you can even run your code on a phone!  As you progress in science you may want to install notebook software such as Jupyter Notebook (free) on your computer, but there is no need for this course.\n",
        "\n",
        "Each notebook is made of a combination of text cells and code cells.\n",
        "## Text cells\n",
        "The text you are reading right now is in a text cell.  You can use text cells in the same way you would use a Google or Microsoft Word document.\n",
        "### Markdown formatting\n",
        "Text cells are written in Markdown.  This allows us to add formatting such as the headers in this document.  You are *not required* to learn Markdown in this course, but may find it useful later.\n",
        "### An example of typesetting\n",
        "We can also typeset equations (make them look nice) using MathJax.  MathJax is what I use to typset equations on other places such as our online forum.  You are *not required* to learn MathJax in this course, but may find it useful later.  $$p=\\frac{RT}{\\bar V -b}-\\frac{a}{\\bar V^2}$$\n",
        "## Coding cells\n",
        "Code cells contain computer code; it can be run right there in the cell.  We have one example below.  Note that it is possible to split a computer program into several different cells, but be careful--you may need to run the cells in a specific order.  It is a good idea to *comment* your code with things like units so that you can keep track of what your code is doing."
      ],
      "metadata": {
        "id": "LZupExQxCI9U"
      }
    },
    {
      "cell_type": "code",
      "execution_count": null,
      "metadata": {
        "colab": {
          "base_uri": "https://localhost:8080/"
        },
        "id": "_iyhu_pPCDvO",
        "outputId": "6b08cafa-e5ad-4558-a893-eb2985c03a0c"
      },
      "outputs": [
        {
          "output_type": "stream",
          "name": "stdout",
          "text": [
            "Hello world!  This is my second computer script.\n"
          ]
        }
      ],
      "source": [
        "# This is a comment-the computer ignores everthing after the # symbol.\n",
        "greeting='Hello world!  This is my second computer script.'  # random text  in kJ\n",
        "print(greeting)"
      ]
    }
  ]
}